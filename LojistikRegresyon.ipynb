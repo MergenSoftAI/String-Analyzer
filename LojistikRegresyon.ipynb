{
 "cells": [
  {
   "cell_type": "markdown",
   "metadata": {},
   "source": [
    "# Lojistik Regresyon"
   ]
  },
  {
   "cell_type": "markdown",
   "metadata": {},
   "source": [
    "**Kütüphanelerin İçe Aktarılması**"
   ]
  },
  {
   "cell_type": "code",
   "execution_count": 1,
   "metadata": {},
   "outputs": [],
   "source": [
    "import pickle\n",
    "\n",
    "import numpy as np\n",
    "import pandas as pd\n",
    "import seaborn as sns\n",
    "import matplotlib.pyplot as plt\n",
    "\n",
    "from sklearn.feature_extraction.text import CountVectorizer\n",
    "from sklearn.linear_model import LogisticRegression\n",
    "\n",
    "from sklearn.metrics import classification_report\n",
    "from sklearn.metrics import f1_score\n",
    "\n",
    "from mergen import StringAnalyzer"
   ]
  },
  {
   "cell_type": "markdown",
   "metadata": {},
   "source": [
    "**Verinin Yüklenmesi**"
   ]
  },
  {
   "cell_type": "code",
   "execution_count": 2,
   "metadata": {},
   "outputs": [
    {
     "data": {
      "text/html": [
       "<div>\n",
       "<style scoped>\n",
       "    .dataframe tbody tr th:only-of-type {\n",
       "        vertical-align: middle;\n",
       "    }\n",
       "\n",
       "    .dataframe tbody tr th {\n",
       "        vertical-align: top;\n",
       "    }\n",
       "\n",
       "    .dataframe thead th {\n",
       "        text-align: right;\n",
       "    }\n",
       "</style>\n",
       "<table border=\"1\" class=\"dataframe\">\n",
       "  <thead>\n",
       "    <tr style=\"text-align: right;\">\n",
       "      <th></th>\n",
       "      <th>text</th>\n",
       "      <th>target</th>\n",
       "    </tr>\n",
       "  </thead>\n",
       "  <tbody>\n",
       "    <tr>\n",
       "      <th>0</th>\n",
       "      <td>çürük dişli</td>\n",
       "      <td>INSULT</td>\n",
       "    </tr>\n",
       "    <tr>\n",
       "      <th>1</th>\n",
       "      <td>Bu adamın islama ve müslümanlara verdiği zarar...</td>\n",
       "      <td>RACIST</td>\n",
       "    </tr>\n",
       "    <tr>\n",
       "      <th>2</th>\n",
       "      <td>erkekler zora gelmez</td>\n",
       "      <td>SEXIST</td>\n",
       "    </tr>\n",
       "    <tr>\n",
       "      <th>3</th>\n",
       "      <td>Utanmazın götüne kazık sokmuşlar bu tıkırtı ne...</td>\n",
       "      <td>PROFANITY</td>\n",
       "    </tr>\n",
       "    <tr>\n",
       "      <th>4</th>\n",
       "      <td>otomasyon&lt; sistemlerine= doğrudan bağlanabilir</td>\n",
       "      <td>OTHER</td>\n",
       "    </tr>\n",
       "  </tbody>\n",
       "</table>\n",
       "</div>"
      ],
      "text/plain": [
       "                                                text     target\n",
       "0                                        çürük dişli     INSULT\n",
       "1  Bu adamın islama ve müslümanlara verdiği zarar...     RACIST\n",
       "2                               erkekler zora gelmez     SEXIST\n",
       "3  Utanmazın götüne kazık sokmuşlar bu tıkırtı ne...  PROFANITY\n",
       "4     otomasyon< sistemlerine= doğrudan bağlanabilir      OTHER"
      ]
     },
     "execution_count": 2,
     "metadata": {},
     "output_type": "execute_result"
    }
   ],
   "source": [
    "data = pd.read_csv(\"teknofest_train_final.csv\", sep=\"|\", encoding=\"utf-8\")\n",
    "data = data[['text', 'target']]\n",
    "data.head()"
   ]
  },
  {
   "cell_type": "markdown",
   "metadata": {},
   "source": [
    "**Metin Ön İşleme**"
   ]
  },
  {
   "cell_type": "code",
   "execution_count": 3,
   "metadata": {},
   "outputs": [
    {
     "data": {
      "text/html": [
       "<div>\n",
       "<style scoped>\n",
       "    .dataframe tbody tr th:only-of-type {\n",
       "        vertical-align: middle;\n",
       "    }\n",
       "\n",
       "    .dataframe tbody tr th {\n",
       "        vertical-align: top;\n",
       "    }\n",
       "\n",
       "    .dataframe thead th {\n",
       "        text-align: right;\n",
       "    }\n",
       "</style>\n",
       "<table border=\"1\" class=\"dataframe\">\n",
       "  <thead>\n",
       "    <tr style=\"text-align: right;\">\n",
       "      <th></th>\n",
       "      <th>text</th>\n",
       "      <th>target</th>\n",
       "    </tr>\n",
       "  </thead>\n",
       "  <tbody>\n",
       "    <tr>\n",
       "      <th>0</th>\n",
       "      <td>çürük dişli</td>\n",
       "      <td>INSULT</td>\n",
       "    </tr>\n",
       "    <tr>\n",
       "      <th>1</th>\n",
       "      <td>adamın islama müslümanlara verdiği zararı gavu...</td>\n",
       "      <td>RACIST</td>\n",
       "    </tr>\n",
       "    <tr>\n",
       "      <th>2</th>\n",
       "      <td>erkekler zora gelmez</td>\n",
       "      <td>SEXIST</td>\n",
       "    </tr>\n",
       "    <tr>\n",
       "      <th>3</th>\n",
       "      <td>utanmazın götüne kazık sokmuşlar tıkırtı geliy...</td>\n",
       "      <td>PROFANITY</td>\n",
       "    </tr>\n",
       "    <tr>\n",
       "      <th>4</th>\n",
       "      <td>otomasyon sistemlerine doğrudan bağlanabilir</td>\n",
       "      <td>OTHER</td>\n",
       "    </tr>\n",
       "  </tbody>\n",
       "</table>\n",
       "</div>"
      ],
      "text/plain": [
       "                                                text     target\n",
       "0                                        çürük dişli     INSULT\n",
       "1  adamın islama müslümanlara verdiği zararı gavu...     RACIST\n",
       "2                               erkekler zora gelmez     SEXIST\n",
       "3  utanmazın götüne kazık sokmuşlar tıkırtı geliy...  PROFANITY\n",
       "4       otomasyon sistemlerine doğrudan bağlanabilir      OTHER"
      ]
     },
     "execution_count": 3,
     "metadata": {},
     "output_type": "execute_result"
    }
   ],
   "source": [
    "string_analyzer = StringAnalyzer(data=data, columns='text')\n",
    "data = string_analyzer.dataframe_analyze()\n",
    "data.head()"
   ]
  },
  {
   "cell_type": "markdown",
   "metadata": {},
   "source": [
    "**Modelin Sayısallaştırılması ve Eğitim, Test Olarak Ayrılması**"
   ]
  },
  {
   "cell_type": "code",
   "execution_count": 4,
   "metadata": {},
   "outputs": [],
   "source": [
    "# Metin verilerinin sayısallaştırılması\n",
    "vectorizer = CountVectorizer()\n",
    "X = vectorizer.fit_transform(data['text'])\n",
    "y = data['target']"
   ]
  },
  {
   "cell_type": "code",
   "execution_count": 5,
   "metadata": {},
   "outputs": [],
   "source": [
    "from sklearn.model_selection import train_test_split\n",
    "\n",
    "# Eğitim ve test verilerinin ayrılması\n",
    "X_train_, X_test_, y_train_, y_test_ = train_test_split(X, y, test_size=0.1, random_state=42)"
   ]
  },
  {
   "cell_type": "markdown",
   "metadata": {},
   "source": [
    "**Modelin Eğitilmesi**"
   ]
  },
  {
   "cell_type": "code",
   "execution_count": 6,
   "metadata": {},
   "outputs": [
    {
     "data": {
      "text/plain": [
       "LogisticRegression(multi_class='multinomial', solver='newton-cg')"
      ]
     },
     "execution_count": 6,
     "metadata": {},
     "output_type": "execute_result"
    }
   ],
   "source": [
    "lr = LogisticRegression(multi_class='multinomial', solver='newton-cg')\n",
    "lr.fit(X_train_, y_train_)"
   ]
  },
  {
   "cell_type": "markdown",
   "metadata": {},
   "source": [
    "**Modelin Test Edilmesi ve Grafik**"
   ]
  },
  {
   "cell_type": "code",
   "execution_count": 7,
   "metadata": {},
   "outputs": [
    {
     "name": "stdout",
     "output_type": "stream",
     "text": [
      "F1 score: 0.7969368227951243\n"
     ]
    }
   ],
   "source": [
    "from sklearn.metrics import f1_score\n",
    "# Test verilerinin tahmini\n",
    "y_pred = lr.predict(X_test_)\n",
    "# F1 skoru hesaplama\n",
    "f1 = f1_score(y_test_, y_pred, average='weighted')\n",
    "print(\"F1 score:\", f1)"
   ]
  },
  {
   "cell_type": "code",
   "execution_count": 8,
   "metadata": {},
   "outputs": [
    {
     "name": "stdout",
     "output_type": "stream",
     "text": [
      "              precision    recall  f1-score   support\n",
      "\n",
      "      INSULT       0.71      0.73      0.72       240\n",
      "       OTHER       0.69      0.86      0.76       378\n",
      "   PROFANITY       0.96      0.81      0.88       226\n",
      "      RACIST       0.90      0.70      0.79       207\n",
      "      SEXIST       0.91      0.82      0.86       211\n",
      "\n",
      "    accuracy                           0.79      1262\n",
      "   macro avg       0.83      0.78      0.80      1262\n",
      "weighted avg       0.81      0.79      0.80      1262\n",
      "\n"
     ]
    }
   ],
   "source": [
    "# Test verileri üzerinde tahmin işlemi yap\n",
    "y_pred = lr.predict(X_test_)\n",
    "\n",
    "# Sınıflandırma raporunu göster\n",
    "print(classification_report(y_test_, y_pred))"
   ]
  },
  {
   "cell_type": "code",
   "execution_count": 9,
   "metadata": {},
   "outputs": [
    {
     "data": {
      "image/png": "[encoded data removed]",
      "text/plain": [
       "<Figure size 640x480 with 1 Axes>"
      ]
     },
     "metadata": {},
     "output_type": "display_data"
    }
   ],
   "source": [
    "# Test verileri üzerinde tahmin işlemi yap\n",
    "y_pred = lr.predict(X_test_)\n",
    "\n",
    "# Kategorileri al\n",
    "categories = np.unique(y_test_)\n",
    "\n",
    "# Her kategori için f1-score hesapla\n",
    "f1_scores = [f1_score(y_test_, y_pred, labels=[category], average='weighted') for category in categories]\n",
    "\n",
    "# Bar grafiğini oluştur\n",
    "plt.bar(categories, f1_scores)\n",
    "plt.xlabel('Kategori')\n",
    "plt.ylabel('f1-score')\n",
    "plt.title('Kategori bazında Performans')\n",
    "plt.show()"
   ]
  },
  {
   "cell_type": "code",
   "execution_count": 10,
   "metadata": {},
   "outputs": [
    {
     "data": {
      "image/png": "[encoded data removed]",
      "text/plain": [
       "<Figure size 640x480 with 1 Axes>"
      ]
     },
     "metadata": {},
     "output_type": "display_data"
    }
   ],
   "source": [
    "# Test verileri üzerinde tahmin işlemi yap\n",
    "y_pred = lr.predict(X_test_)\n",
    "\n",
    "# Kategorileri al\n",
    "categories = np.unique(y_test_)\n",
    "\n",
    "# Her kategori için sınıflandırma raporunu hesapla\n",
    "reports = [classification_report(y_test_, y_pred, labels=[category], output_dict=True) for category in categories]\n",
    "\n",
    "# Performans metriklerini al\n",
    "precision = [reports[i][str(categories[i])]['precision'] for i in range(len(categories))]\n",
    "recall = [reports[i][str(categories[i])]['recall'] for i in range(len(categories))]\n",
    "f1_score = [reports[i][str(categories[i])]['f1-score'] for i in range(len(categories))]\n",
    "#support = [reports[i][str(categories[i])]['support'] for i in range(len(categories))]\n",
    "\n",
    "# Bar grafiğini oluştur\n",
    "x = np.arange(len(categories))\n",
    "width = 0.2\n",
    "\n",
    "fig, ax = plt.subplots()\n",
    "rects1 = ax.bar(x - 1.5*width, precision, width, label='Precision')\n",
    "rects2 = ax.bar(x - 0.5*width, recall, width, label='Recall')\n",
    "rects3 = ax.bar(x + 0.5*width, f1_score, width, label='F1-score')\n",
    "#rects4 = ax.bar(x + 1.5*width, support, width, label='Support')\n",
    "\n",
    "# Eksenleri ayarla\n",
    "ax.set_xticks(x)\n",
    "ax.set_xticklabels(categories)\n",
    "ax.legend()\n",
    "\n",
    "# Grafiği göster\n",
    "plt.xlabel('Kategori')\n",
    "plt.ylabel('Skor')\n",
    "plt.title('Kategori bazında Performans')\n",
    "plt.show()"
   ]
  },
  {
   "cell_type": "markdown",
   "metadata": {},
   "source": [
    "**Modelin Metin Verileri Üzerinden Test Edilmesi**"
   ]
  },
  {
   "cell_type": "code",
   "execution_count": 11,
   "metadata": {},
   "outputs": [],
   "source": [
    "# Test işleminin gerçekleştirilmesi\n",
    "def test(text):\n",
    "    # Önişleme işlemi\n",
    "    text = StringAnalyzer(sentence=text).sentence_analyze()\n",
    "    # Sayısallaştırma işlemi\n",
    "    X_test = vectorizer.transform([text])\n",
    "    # Tahmin işlemi\n",
    "    y_pred = lr.predict(X_test)\n",
    "    return y_pred[0]"
   ]
  },
  {
   "cell_type": "code",
   "execution_count": 12,
   "metadata": {},
   "outputs": [
    {
     "name": "stdout",
     "output_type": "stream",
     "text": [
      "OTHER\n"
     ]
    }
   ],
   "source": [
    "text = \"Bu örnek bir metindir.\"\n",
    "print(test(text))"
   ]
  },
  {
   "cell_type": "code",
   "execution_count": 13,
   "metadata": {},
   "outputs": [
    {
     "name": "stdout",
     "output_type": "stream",
     "text": [
      "OTHER\n",
      "SEXIST\n",
      "INSULT\n",
      "RACIST\n"
     ]
    }
   ],
   "source": [
    "text1 = \"Türkiye Cumhuriyeti Devleti 14 Mayıs 2023 tarihinde Seçime gitmektedir.\"\n",
    "text2 = \"Kadınlar ülke bile yönetemezler\"\n",
    "text3 = \"Çirkin bir insansın sen\"\n",
    "text4 = \"Suriyeli erkekler kızlarımıza askıntılık etmektedirler.\"\n",
    "print(test(text=text1))\n",
    "print(test(text=text2))\n",
    "print(test(text=text3))\n",
    "print(test(text=text4))"
   ]
  }
 ],
 "metadata": {
  "kernelspec": {
   "display_name": "Python 3 (ipykernel)",
   "language": "python",
   "name": "python3"
  },
  "language_info": {
   "codemirror_mode": {
    "name": "ipython",
    "version": 3
   },
   "file_extension": ".py",
   "mimetype": "text/x-python",
   "name": "python",
   "nbconvert_exporter": "python",
   "pygments_lexer": "ipython3",
   "version": "3.9.13"
  }
 },
 "nbformat": 4,
 "nbformat_minor": 1
}
