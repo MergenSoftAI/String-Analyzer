{
 "cells": [
  {
   "cell_type": "markdown",
   "metadata": {},
   "source": [
    "# Metin Madenciliği\n",
    "\n",
    "<p style=\"text-align:justify\"><b>Metin madenciliği</b>, veri ön işleme sürecinde gerçekleştirilen işlemlerdir. Öncelikle büyük ölçekteki veriler arasında faydalı bilgiye ulaşma işlemi olan veri madenciliği yapılır.\n",
    "Daha sonra veri seti üzerinde yapılan veri ön işleme işlemleri gerçekleştirilir.\n",
    "<b>Metinsel veri analizi</b>; bilgi çıkarımı, kümeleme, kategorizasyon, veritabanı teknolojisi, makine öğrenimi ve veri madenciliği gibi disiplinler arası bir alandır.</p>\n"
   ]
  },
  {
   "cell_type": "markdown",
   "source": [
    "**StringAnalyzer** sınıfı metin madenciliği için oluşturulmuştur. Bu sınıf dört adet parametre almaktadır. Bunlar `data`, `columns`, `sentence` ve `values` değerleridir.\n",
    "* `data`: DataFrame'i ifade etmektedir. Hangi **DataFrame** üzerinde işlem yapılacağını belirtmektedir.\n",
    "* `columns`: DataFrame'e ait **sütunu** ifade etmektedir. Tek bir değer almaktadır ve hangi sütun üzerinde işlem yapılacığı belirtilir.\n",
    "* `sentence`: Metinleri ifade etmektedir. Hangi **metin** üzerinde işlem yapılacağını bu değişkene atayarak belirtilir.\n",
    "* `values`: **Values** metin içerisinde silinmesini istediğiniz değerleri alır. Bu değerler bir **liste** içerisinde bulunmalıdır."
   ],
   "metadata": {
    "collapsed": false
   }
  },
  {
   "cell_type": "code",
   "execution_count": 1,
   "metadata": {},
   "outputs": [],
   "source": [
    "import pandas as pd\n",
    "from mergen import StringAnalyzer"
   ]
  },
  {
   "cell_type": "code",
   "execution_count": 2,
   "metadata": {},
   "outputs": [
    {
     "data": {
      "text/plain": "\"Dünya, Güneş Sistemi'nin üçüncü gezegenidir. Güneş'e olan uzaklığı yaklaşık olarak 150 milyon kilometredir. \\nDünya'nın yüzeyinde suyun sıvı hâlinde bulunması, gezegenimizi özel kılan en önemli özelliklerden biridir.\\n\\n#dünya #gezegen #güneşsistemi\\n\\nDünya'nın atmosferi, özellikle canlıların yaşamını sürdürebilmeleri için hayati önem taşır. Atmosfer, gezegenimizi \\ngüneş ışınlarından korur ve gerekli sıcaklık aralığını sağlar. Ayrıca atmosferdeki gazlar, gezegenimizi yeşil renkli \\nbir gök cisimine dönüştürür. Gökyüzü gündüzleri mavi renkte görünmektedir. Ayrıca bulutları ise beyaz renktedir. \\n\\nSes hızı, sıcaklık, basınç ve nem gibi faktörlere bağlı olarak değişebilir. \\nAncak normal şartlar altında deniz seviyesinde 20°C sıcaklıkta ses hızı yaklaşık 343 metre/saniye olarak kabul edilir.\\n\\nhttp://www.dunya.com/ \\n\\nDünya'da yaşayan canlıların sayısı yaklaşık olarak 8 milyar. Bu canlıların çoğu insanlardır. İnsanlar, gezegenimizin \\nen gelişmiş canlıları arasındadır ve birçok farklı kültüre sahiptirler.\\n\\nBir e-posta örneği: info@dunya.com\\n\""
     },
     "execution_count": 2,
     "metadata": {},
     "output_type": "execute_result"
    }
   ],
   "source": [
    "metin = \"\"\"Dünya, Güneş Sistemi'nin üçüncü gezegenidir. Güneş'e olan uzaklığı yaklaşık olarak 150 milyon kilometredir. \n",
    "Dünya'nın yüzeyinde suyun sıvı hâlinde bulunması, gezegenimizi özel kılan en önemli özelliklerden biridir.\n",
    "\n",
    "#dünya #gezegen #güneşsistemi\n",
    "\n",
    "Dünya'nın atmosferi, özellikle canlıların yaşamını sürdürebilmeleri için hayati önem taşır. Atmosfer, gezegenimizi \n",
    "güneş ışınlarından korur ve gerekli sıcaklık aralığını sağlar. Ayrıca atmosferdeki gazlar, gezegenimizi yeşil renkli \n",
    "bir gök cisimine dönüştürür. Gökyüzü gündüzleri mavi renkte görünmektedir. Ayrıca bulutları ise beyaz renktedir. \n",
    "\n",
    "Ses hızı, sıcaklık, basınç ve nem gibi faktörlere bağlı olarak değişebilir. \n",
    "Ancak normal şartlar altında deniz seviyesinde 20°C sıcaklıkta ses hızı yaklaşık 343 metre/saniye olarak kabul edilir.\n",
    "\n",
    "http://www.dunya.com/ \n",
    "\n",
    "Dünya'da yaşayan canlıların sayısı yaklaşık olarak 8 milyar. Bu canlıların çoğu insanlardır. İnsanlar, gezegenimizin \n",
    "en gelişmiş canlıları arasındadır ve birçok farklı kültüre sahiptirler.\n",
    "\n",
    "Bir e-posta örneği: info@dunya.com\n",
    "\"\"\"\n",
    "metin"
   ]
  },
  {
   "cell_type": "code",
   "execution_count": 3,
   "metadata": {},
   "outputs": [
    {
     "data": {
      "text/plain": "['yeşil', 'mavi', 'beyaz', 'web']"
     },
     "execution_count": 3,
     "metadata": {},
     "output_type": "execute_result"
    }
   ],
   "source": [
    "values = ['yeşil','mavi', 'beyaz', 'web']\n",
    "values"
   ]
  },
  {
   "cell_type": "markdown",
   "source": [
    "Şu ana kadar sınıfımızı içe aktardık ve elimizde bulunan metni `metin` adlı değişkene atadık. Aynı zamanda metin içerisinde silinmesini istediğimiz değerleri `values` adlı değişkene atadık. Bir sonraki satırda `StringAnalyzer` sınıfından nesne oluşturduk."
   ],
   "metadata": {
    "collapsed": false
   }
  },
  {
   "cell_type": "code",
   "execution_count": 4,
   "metadata": {},
   "outputs": [],
   "source": [
    "string_analyzer = StringAnalyzer(sentence = metin, values=values)"
   ]
  },
  {
   "cell_type": "markdown",
   "source": [
    "`StringAnalyzer` sınıfını değerlerinide girerek `string_analyzer` adlı bir değişkene atadık. Bu sınıfa ait farklı metotlar mevcuttur. Biz ilk olarak `sentence_analyze()` metodunu kullandık. Bu metot sırasıyla `küçük harfe çevirme`, `https verilerini silme`, `email verilerini silme`, `hashtags verilerini silme`, `sayıları silme`, `stop words  verilerini silme`, `values verilerini silme`, `fazla boşlukların silinmesi` işlemlerini gerçekleştirmektedir."
   ],
   "metadata": {
    "collapsed": false
   }
  },
  {
   "cell_type": "code",
   "execution_count": 5,
   "metadata": {},
   "outputs": [
    {
     "data": {
      "text/plain": "'dünya güneş sisteminin üçüncü gezegenidir güneşe uzaklığı yaklaşık kilometredir dünyanın yüzeyinde suyun sıvı hâlinde bulunması gezegenimizi özel kılan önemli özelliklerden biridir dünyanın atmosferi özellikle canlıların yaşamını sürdürebilmeleri hayati önem taşır atmosfer gezegenimizi güneş ışınlarından korur gerekli sıcaklık aralığını sağlar atmosferdeki gazlar gezegenimizi renkli gök cisimine dönüştürür gökyüzü gündüzleri renkte görünmektedir bulutları renktedir ses hızı sıcaklık basınç nem faktörlere bağlı değişebilir normal şartlar altında deniz seviyesinde °c sıcaklıkta ses hızı yaklaşık metresaniye kabul edilir dünyada yaşayan canlıların sayısı yaklaşık canlıların insanlardır i̇nsanlar gezegenimizin gelişmiş canlıları arasındadır farklı kültüre sahiptirler eposta örneği'"
     },
     "execution_count": 5,
     "metadata": {},
     "output_type": "execute_result"
    }
   ],
   "source": [
    "temizlenmis_metin = string_analyzer.sentence_analyze()\n",
    "temizlenmis_metin"
   ]
  },
  {
   "cell_type": "code",
   "execution_count": 6,
   "outputs": [
    {
     "data": {
      "text/plain": "\"BU ÖRNEK BİR CÜMLEDİR. #örnek #cümle info@gmail.com https://www.google.com !'^+%&/()=?-_{} kırmızı mavi yeşil 10 Mart 2023\""
     },
     "execution_count": 6,
     "metadata": {},
     "output_type": "execute_result"
    }
   ],
   "source": [
    "yeni_metin = \"BU ÖRNEK BİR CÜMLEDİR. #örnek #cümle info@gmail.com https://www.google.com !'^+%&/()=?-_{} kırmızı mavi yeşil 10 Mart 2023\"\n",
    "yeni_metin"
   ],
   "metadata": {
    "collapsed": false
   }
  },
  {
   "cell_type": "code",
   "execution_count": 7,
   "outputs": [],
   "source": [
    "string_analyzer = StringAnalyzer()"
   ],
   "metadata": {
    "collapsed": false
   }
  },
  {
   "cell_type": "markdown",
   "source": [
    "#### Küçük Harfe Çevirme: to_lowercase()\n",
    "* `to_lowercase()` metodu üç farklı parametre almaktadır. Bunlar `data`, `columns` ve `sentence`'dir. Bundan sonrada **StringAnalyzer** sınıfına ait diğer metotlarda bu parametreleride almaktadır. Tek istisnası `this()` metodudur. Oraya geldiğimizde nedeni açıklanacaktır. `to_lowercase()` metodu ve diğer metotların bu parametrelerinin almasının sebebi bu sınıfı kullanacak insanların bazı verilerinin silinmesini istemeyebilir ya da sadece tek bir değişken üzerinde işlem yapmak isteyebilecekleri içindir. Bu metot metin içerisinde bulunan harfleri veya kelimeleri **küçük harfe çevirme işlemi** gerçekleştirmektedir."
   ],
   "metadata": {
    "collapsed": false
   }
  },
  {
   "cell_type": "code",
   "execution_count": 8,
   "outputs": [
    {
     "data": {
      "text/plain": "\"bu örnek bi̇r cümledi̇r. #örnek #cümle info@gmail.com https://www.google.com !'^+%&/()=?-_{} kırmızı mavi yeşil 10 mart 2023\""
     },
     "execution_count": 8,
     "metadata": {},
     "output_type": "execute_result"
    }
   ],
   "source": [
    "yeni_metin = string_analyzer.to_lowercase(sentence=yeni_metin)\n",
    "yeni_metin"
   ],
   "metadata": {
    "collapsed": false
   }
  },
  {
   "cell_type": "markdown",
   "source": [
    "#### Https Verilerinin Silinmesi: https()\n",
    "* Bu metot metin içerisinde bulunan **https** verilerini silmektedir."
   ],
   "metadata": {
    "collapsed": false
   }
  },
  {
   "cell_type": "code",
   "execution_count": 9,
   "outputs": [
    {
     "data": {
      "text/plain": "\"bu örnek bi̇r cümledi̇r. #örnek #cümle info@gmail.com  !'^+%&/()=?-_{} kırmızı mavi yeşil 10 mart 2023\""
     },
     "execution_count": 9,
     "metadata": {},
     "output_type": "execute_result"
    }
   ],
   "source": [
    "yeni_metin = string_analyzer.https(sentence=yeni_metin)\n",
    "yeni_metin"
   ],
   "metadata": {
    "collapsed": false
   }
  },
  {
   "cell_type": "markdown",
   "source": [
    "#### Email Verilerinin Silinmesi: email()\n",
    "* Bu metot metin içerisinde bulunan **email** verilerini silmektedir."
   ],
   "metadata": {
    "collapsed": false
   }
  },
  {
   "cell_type": "code",
   "execution_count": 10,
   "outputs": [
    {
     "data": {
      "text/plain": "\"bu örnek bi̇r cümledi̇r. #örnek #cümle !'^+%&/()=?-_{} kırmızı mavi yeşil 10 mart 2023\""
     },
     "execution_count": 10,
     "metadata": {},
     "output_type": "execute_result"
    }
   ],
   "source": [
    "yeni_metin = string_analyzer.email(sentence=yeni_metin)\n",
    "yeni_metin"
   ],
   "metadata": {
    "collapsed": false
   }
  },
  {
   "cell_type": "markdown",
   "source": [
    "#### Hashtag Verilerinin Silinmesi: hashtag()\n",
    "* Bu metot metin içerisinde bulunan **hashtag** verilerini silmektedir."
   ],
   "metadata": {
    "collapsed": false
   }
  },
  {
   "cell_type": "code",
   "execution_count": 11,
   "outputs": [
    {
     "data": {
      "text/plain": "\"bu örnek bi̇r cümledi̇r.   !'^+%&/()=?-_{} kırmızı mavi yeşil 10 mart 2023\""
     },
     "execution_count": 11,
     "metadata": {},
     "output_type": "execute_result"
    }
   ],
   "source": [
    "yeni_metin = string_analyzer.hashtags(sentence=yeni_metin)\n",
    "yeni_metin"
   ],
   "metadata": {
    "collapsed": false
   }
  },
  {
   "cell_type": "markdown",
   "source": [
    "#### Sayıların Silinmesi: number()\n",
    "* Bu metot metin içerisinde bulunan **sayıları** silmektedir."
   ],
   "metadata": {
    "collapsed": false
   }
  },
  {
   "cell_type": "code",
   "execution_count": 12,
   "outputs": [
    {
     "data": {
      "text/plain": "\"bu örnek bi̇r cümledi̇r.   !'^+%&/()=?-_{} kırmızı mavi yeşil  mart \""
     },
     "execution_count": 12,
     "metadata": {},
     "output_type": "execute_result"
    }
   ],
   "source": [
    "yeni_metin = string_analyzer.number(sentence=yeni_metin)\n",
    "yeni_metin"
   ],
   "metadata": {
    "collapsed": false
   }
  },
  {
   "cell_type": "markdown",
   "source": [
    "#### Moktalama İşaretlerinin Silinmesi: punctuation()\n",
    "* Bu metot metin içerisinde bulunan **noktalama işaretlerini** silmektedir."
   ],
   "metadata": {
    "collapsed": false
   }
  },
  {
   "cell_type": "code",
   "execution_count": 13,
   "outputs": [
    {
     "data": {
      "text/plain": "'bu örnek bi̇r cümledi̇r    kırmızı mavi yeşil  mart '"
     },
     "execution_count": 13,
     "metadata": {},
     "output_type": "execute_result"
    }
   ],
   "source": [
    "yeni_metin = string_analyzer.punctuation(sentence=yeni_metin)\n",
    "yeni_metin"
   ],
   "metadata": {
    "collapsed": false
   }
  },
  {
   "cell_type": "markdown",
   "source": [
    "#### Stop Wordslerin Silinmesi: number()\n",
    "* Bu metot metin içerisinde bulunan **stop wordsleri** silmektedir."
   ],
   "metadata": {
    "collapsed": false
   }
  },
  {
   "cell_type": "code",
   "execution_count": 14,
   "metadata": {},
   "outputs": [
    {
     "data": {
      "text/plain": "'örnek bi̇r cümledi̇r kırmızı mavi yeşil mart'"
     },
     "execution_count": 14,
     "metadata": {},
     "output_type": "execute_result"
    }
   ],
   "source": [
    "yeni_metin = string_analyzer.stop_word(sentence=yeni_metin)\n",
    "yeni_metin"
   ]
  },
  {
   "cell_type": "markdown",
   "source": [
    "#### İstediğiniz Elemanların Silinmesi: this()\n",
    "* Bu metot metin içerisinde bulunan **istediğiniz elemanları** silmektedir."
   ],
   "metadata": {
    "collapsed": false
   }
  },
  {
   "cell_type": "code",
   "execution_count": 15,
   "outputs": [
    {
     "data": {
      "text/plain": "'örnek bi̇r cümledi̇r kırmızı mart'"
     },
     "execution_count": 15,
     "metadata": {},
     "output_type": "execute_result"
    }
   ],
   "source": [
    "yeni_metin = string_analyzer.this(sentence=yeni_metin,values=values)\n",
    "yeni_metin"
   ],
   "metadata": {
    "collapsed": false
   }
  },
  {
   "cell_type": "markdown",
   "source": [
    "#### Fazla Boşlukların Silinmesi: more_space()\n",
    "* Bu metot metin içerisinde bulunan **fazla boşlukları** silmektedir."
   ],
   "metadata": {
    "collapsed": false
   }
  },
  {
   "cell_type": "code",
   "execution_count": 16,
   "outputs": [
    {
     "data": {
      "text/plain": "'örnek bi̇r cümledi̇r kırmızı mart'"
     },
     "execution_count": 16,
     "metadata": {},
     "output_type": "execute_result"
    }
   ],
   "source": [
    "yeni_metin = string_analyzer.more_space(sentence=yeni_metin)\n",
    "yeni_metin"
   ],
   "metadata": {
    "collapsed": false
   }
  },
  {
   "cell_type": "markdown",
   "source": [
    "## DataFrame Yapısında Metin Madenciliği"
   ],
   "metadata": {
    "collapsed": false
   }
  },
  {
   "cell_type": "code",
   "execution_count": 17,
   "outputs": [
    {
     "data": {
      "text/plain": "                                               Metin    Kategori\n0  BU ÖRNEK BİR CÜMLEDİR. #örnek #cümle info@gmai...  Nötr Cümle",
      "text/html": "<div>\n<style scoped>\n    .dataframe tbody tr th:only-of-type {\n        vertical-align: middle;\n    }\n\n    .dataframe tbody tr th {\n        vertical-align: top;\n    }\n\n    .dataframe thead th {\n        text-align: right;\n    }\n</style>\n<table border=\"1\" class=\"dataframe\">\n  <thead>\n    <tr style=\"text-align: right;\">\n      <th></th>\n      <th>Metin</th>\n      <th>Kategori</th>\n    </tr>\n  </thead>\n  <tbody>\n    <tr>\n      <th>0</th>\n      <td>BU ÖRNEK BİR CÜMLEDİR. #örnek #cümle info@gmai...</td>\n      <td>Nötr Cümle</td>\n    </tr>\n  </tbody>\n</table>\n</div>"
     },
     "execution_count": 17,
     "metadata": {},
     "output_type": "execute_result"
    }
   ],
   "source": [
    "data_sozluk = {'Metin':[\"BU ÖRNEK BİR CÜMLEDİR. #örnek #cümle info@gmail.com https://www.google.com !'^+%&/()=?-_{} kırmızı mavi yeşil 10 Mart 2023\"],\n",
    "               'Kategori':['Nötr Cümle']}\n",
    "data = pd.DataFrame(data=data_sozluk)\n",
    "data"
   ],
   "metadata": {
    "collapsed": false
   }
  },
  {
   "cell_type": "code",
   "execution_count": 18,
   "outputs": [],
   "source": [
    "string_analyzer_data = StringAnalyzer(data=data, columns='Metin',values=values)"
   ],
   "metadata": {
    "collapsed": false
   }
  },
  {
   "cell_type": "code",
   "execution_count": 19,
   "outputs": [
    {
     "data": {
      "text/plain": "                               Metin    Kategori\n0  örnek bi̇r cümledi̇r kırmızı mart  Nötr Cümle",
      "text/html": "<div>\n<style scoped>\n    .dataframe tbody tr th:only-of-type {\n        vertical-align: middle;\n    }\n\n    .dataframe tbody tr th {\n        vertical-align: top;\n    }\n\n    .dataframe thead th {\n        text-align: right;\n    }\n</style>\n<table border=\"1\" class=\"dataframe\">\n  <thead>\n    <tr style=\"text-align: right;\">\n      <th></th>\n      <th>Metin</th>\n      <th>Kategori</th>\n    </tr>\n  </thead>\n  <tbody>\n    <tr>\n      <th>0</th>\n      <td>örnek bi̇r cümledi̇r kırmızı mart</td>\n      <td>Nötr Cümle</td>\n    </tr>\n  </tbody>\n</table>\n</div>"
     },
     "execution_count": 19,
     "metadata": {},
     "output_type": "execute_result"
    }
   ],
   "source": [
    "string_analyzer_data.dataframe_analyze()"
   ],
   "metadata": {
    "collapsed": false
   }
  },
  {
   "cell_type": "code",
   "execution_count": 20,
   "outputs": [
    {
     "data": {
      "text/plain": "                                               Metin    Kategori\n0  BU ÖRNEK BİR CÜMLEDİR. #örnek #cümle info@gmai...  Nötr Cümle",
      "text/html": "<div>\n<style scoped>\n    .dataframe tbody tr th:only-of-type {\n        vertical-align: middle;\n    }\n\n    .dataframe tbody tr th {\n        vertical-align: top;\n    }\n\n    .dataframe thead th {\n        text-align: right;\n    }\n</style>\n<table border=\"1\" class=\"dataframe\">\n  <thead>\n    <tr style=\"text-align: right;\">\n      <th></th>\n      <th>Metin</th>\n      <th>Kategori</th>\n    </tr>\n  </thead>\n  <tbody>\n    <tr>\n      <th>0</th>\n      <td>BU ÖRNEK BİR CÜMLEDİR. #örnek #cümle info@gmai...</td>\n      <td>Nötr Cümle</td>\n    </tr>\n  </tbody>\n</table>\n</div>"
     },
     "execution_count": 20,
     "metadata": {},
     "output_type": "execute_result"
    }
   ],
   "source": [
    "data_sozluk = {'Metin':[\"BU ÖRNEK BİR CÜMLEDİR. #örnek #cümle info@gmail.com https://www.google.com !'^+%&/()=?-_{} kırmızı mavi yeşil 10 Mart 2023\"],\n",
    "               'Kategori':['Nötr Cümle']}\n",
    "yeni_data = pd.DataFrame(data=data_sozluk)\n",
    "yeni_data"
   ],
   "metadata": {
    "collapsed": false
   }
  },
  {
   "cell_type": "code",
   "execution_count": 21,
   "outputs": [],
   "source": [
    "string_analyzer_data = StringAnalyzer()"
   ],
   "metadata": {
    "collapsed": false
   }
  },
  {
   "cell_type": "code",
   "execution_count": 22,
   "outputs": [
    {
     "data": {
      "text/plain": "                                               Metin    Kategori\n0  bu örnek bi̇r cümledi̇r. #örnek #cümle info@gm...  Nötr Cümle",
      "text/html": "<div>\n<style scoped>\n    .dataframe tbody tr th:only-of-type {\n        vertical-align: middle;\n    }\n\n    .dataframe tbody tr th {\n        vertical-align: top;\n    }\n\n    .dataframe thead th {\n        text-align: right;\n    }\n</style>\n<table border=\"1\" class=\"dataframe\">\n  <thead>\n    <tr style=\"text-align: right;\">\n      <th></th>\n      <th>Metin</th>\n      <th>Kategori</th>\n    </tr>\n  </thead>\n  <tbody>\n    <tr>\n      <th>0</th>\n      <td>bu örnek bi̇r cümledi̇r. #örnek #cümle info@gm...</td>\n      <td>Nötr Cümle</td>\n    </tr>\n  </tbody>\n</table>\n</div>"
     },
     "execution_count": 22,
     "metadata": {},
     "output_type": "execute_result"
    }
   ],
   "source": [
    "string_analyzer_data.to_lowercase(data=yeni_data, columns='Metin')"
   ],
   "metadata": {
    "collapsed": false
   }
  },
  {
   "cell_type": "code",
   "execution_count": 23,
   "outputs": [
    {
     "data": {
      "text/plain": "                                               Metin    Kategori\n0  bu örnek bi̇r cümledi̇r. #örnek #cümle info@gm...  Nötr Cümle",
      "text/html": "<div>\n<style scoped>\n    .dataframe tbody tr th:only-of-type {\n        vertical-align: middle;\n    }\n\n    .dataframe tbody tr th {\n        vertical-align: top;\n    }\n\n    .dataframe thead th {\n        text-align: right;\n    }\n</style>\n<table border=\"1\" class=\"dataframe\">\n  <thead>\n    <tr style=\"text-align: right;\">\n      <th></th>\n      <th>Metin</th>\n      <th>Kategori</th>\n    </tr>\n  </thead>\n  <tbody>\n    <tr>\n      <th>0</th>\n      <td>bu örnek bi̇r cümledi̇r. #örnek #cümle info@gm...</td>\n      <td>Nötr Cümle</td>\n    </tr>\n  </tbody>\n</table>\n</div>"
     },
     "execution_count": 23,
     "metadata": {},
     "output_type": "execute_result"
    }
   ],
   "source": [
    "string_analyzer_data.https(data=yeni_data, columns='Metin')"
   ],
   "metadata": {
    "collapsed": false
   }
  },
  {
   "cell_type": "code",
   "execution_count": 24,
   "outputs": [
    {
     "data": {
      "text/plain": "                                               Metin    Kategori\n0  bu örnek bi̇r cümledi̇r. #örnek #cümle !'^+%&/...  Nötr Cümle",
      "text/html": "<div>\n<style scoped>\n    .dataframe tbody tr th:only-of-type {\n        vertical-align: middle;\n    }\n\n    .dataframe tbody tr th {\n        vertical-align: top;\n    }\n\n    .dataframe thead th {\n        text-align: right;\n    }\n</style>\n<table border=\"1\" class=\"dataframe\">\n  <thead>\n    <tr style=\"text-align: right;\">\n      <th></th>\n      <th>Metin</th>\n      <th>Kategori</th>\n    </tr>\n  </thead>\n  <tbody>\n    <tr>\n      <th>0</th>\n      <td>bu örnek bi̇r cümledi̇r. #örnek #cümle !'^+%&amp;/...</td>\n      <td>Nötr Cümle</td>\n    </tr>\n  </tbody>\n</table>\n</div>"
     },
     "execution_count": 24,
     "metadata": {},
     "output_type": "execute_result"
    }
   ],
   "source": [
    "string_analyzer_data.email(data=yeni_data, columns='Metin')"
   ],
   "metadata": {
    "collapsed": false
   }
  },
  {
   "cell_type": "code",
   "execution_count": 25,
   "outputs": [
    {
     "data": {
      "text/plain": "                                               Metin    Kategori\n0  bu örnek bi̇r cümledi̇r.   !'^+%&/()=?-_{} kır...  Nötr Cümle",
      "text/html": "<div>\n<style scoped>\n    .dataframe tbody tr th:only-of-type {\n        vertical-align: middle;\n    }\n\n    .dataframe tbody tr th {\n        vertical-align: top;\n    }\n\n    .dataframe thead th {\n        text-align: right;\n    }\n</style>\n<table border=\"1\" class=\"dataframe\">\n  <thead>\n    <tr style=\"text-align: right;\">\n      <th></th>\n      <th>Metin</th>\n      <th>Kategori</th>\n    </tr>\n  </thead>\n  <tbody>\n    <tr>\n      <th>0</th>\n      <td>bu örnek bi̇r cümledi̇r.   !'^+%&amp;/()=?-_{} kır...</td>\n      <td>Nötr Cümle</td>\n    </tr>\n  </tbody>\n</table>\n</div>"
     },
     "execution_count": 25,
     "metadata": {},
     "output_type": "execute_result"
    }
   ],
   "source": [
    "string_analyzer_data.hashtags(data=yeni_data, columns='Metin')"
   ],
   "metadata": {
    "collapsed": false
   }
  },
  {
   "cell_type": "code",
   "execution_count": 26,
   "outputs": [
    {
     "data": {
      "text/plain": "                                               Metin    Kategori\n0  bu örnek bi̇r cümledi̇r.   !'^+%&/()=?-_{} kır...  Nötr Cümle",
      "text/html": "<div>\n<style scoped>\n    .dataframe tbody tr th:only-of-type {\n        vertical-align: middle;\n    }\n\n    .dataframe tbody tr th {\n        vertical-align: top;\n    }\n\n    .dataframe thead th {\n        text-align: right;\n    }\n</style>\n<table border=\"1\" class=\"dataframe\">\n  <thead>\n    <tr style=\"text-align: right;\">\n      <th></th>\n      <th>Metin</th>\n      <th>Kategori</th>\n    </tr>\n  </thead>\n  <tbody>\n    <tr>\n      <th>0</th>\n      <td>bu örnek bi̇r cümledi̇r.   !'^+%&amp;/()=?-_{} kır...</td>\n      <td>Nötr Cümle</td>\n    </tr>\n  </tbody>\n</table>\n</div>"
     },
     "execution_count": 26,
     "metadata": {},
     "output_type": "execute_result"
    }
   ],
   "source": [
    "string_analyzer_data.number(data=yeni_data, columns='Metin')"
   ],
   "metadata": {
    "collapsed": false
   }
  },
  {
   "cell_type": "code",
   "execution_count": 27,
   "outputs": [
    {
     "data": {
      "text/plain": "                                               Metin    Kategori\n0  bu örnek bi̇r cümledi̇r    kırmızı mavi yeşil ...  Nötr Cümle",
      "text/html": "<div>\n<style scoped>\n    .dataframe tbody tr th:only-of-type {\n        vertical-align: middle;\n    }\n\n    .dataframe tbody tr th {\n        vertical-align: top;\n    }\n\n    .dataframe thead th {\n        text-align: right;\n    }\n</style>\n<table border=\"1\" class=\"dataframe\">\n  <thead>\n    <tr style=\"text-align: right;\">\n      <th></th>\n      <th>Metin</th>\n      <th>Kategori</th>\n    </tr>\n  </thead>\n  <tbody>\n    <tr>\n      <th>0</th>\n      <td>bu örnek bi̇r cümledi̇r    kırmızı mavi yeşil ...</td>\n      <td>Nötr Cümle</td>\n    </tr>\n  </tbody>\n</table>\n</div>"
     },
     "execution_count": 27,
     "metadata": {},
     "output_type": "execute_result"
    }
   ],
   "source": [
    "string_analyzer_data.punctuation(data=yeni_data, columns='Metin')"
   ],
   "metadata": {
    "collapsed": false
   }
  },
  {
   "cell_type": "code",
   "execution_count": 28,
   "outputs": [
    {
     "data": {
      "text/plain": "                                          Metin    Kategori\n0  örnek bi̇r cümledi̇r kırmızı mavi yeşil mart  Nötr Cümle",
      "text/html": "<div>\n<style scoped>\n    .dataframe tbody tr th:only-of-type {\n        vertical-align: middle;\n    }\n\n    .dataframe tbody tr th {\n        vertical-align: top;\n    }\n\n    .dataframe thead th {\n        text-align: right;\n    }\n</style>\n<table border=\"1\" class=\"dataframe\">\n  <thead>\n    <tr style=\"text-align: right;\">\n      <th></th>\n      <th>Metin</th>\n      <th>Kategori</th>\n    </tr>\n  </thead>\n  <tbody>\n    <tr>\n      <th>0</th>\n      <td>örnek bi̇r cümledi̇r kırmızı mavi yeşil mart</td>\n      <td>Nötr Cümle</td>\n    </tr>\n  </tbody>\n</table>\n</div>"
     },
     "execution_count": 28,
     "metadata": {},
     "output_type": "execute_result"
    }
   ],
   "source": [
    "string_analyzer_data.stop_word(data=yeni_data, columns='Metin')"
   ],
   "metadata": {
    "collapsed": false
   }
  },
  {
   "cell_type": "code",
   "execution_count": 29,
   "outputs": [
    {
     "data": {
      "text/plain": "                               Metin    Kategori\n0  örnek bi̇r cümledi̇r kırmızı mart  Nötr Cümle",
      "text/html": "<div>\n<style scoped>\n    .dataframe tbody tr th:only-of-type {\n        vertical-align: middle;\n    }\n\n    .dataframe tbody tr th {\n        vertical-align: top;\n    }\n\n    .dataframe thead th {\n        text-align: right;\n    }\n</style>\n<table border=\"1\" class=\"dataframe\">\n  <thead>\n    <tr style=\"text-align: right;\">\n      <th></th>\n      <th>Metin</th>\n      <th>Kategori</th>\n    </tr>\n  </thead>\n  <tbody>\n    <tr>\n      <th>0</th>\n      <td>örnek bi̇r cümledi̇r kırmızı mart</td>\n      <td>Nötr Cümle</td>\n    </tr>\n  </tbody>\n</table>\n</div>"
     },
     "execution_count": 29,
     "metadata": {},
     "output_type": "execute_result"
    }
   ],
   "source": [
    "string_analyzer_data.this(data=yeni_data, columns='Metin', values=values)"
   ],
   "metadata": {
    "collapsed": false
   }
  },
  {
   "cell_type": "code",
   "execution_count": 30,
   "outputs": [
    {
     "data": {
      "text/plain": "                               Metin    Kategori\n0  örnek bi̇r cümledi̇r kırmızı mart  Nötr Cümle",
      "text/html": "<div>\n<style scoped>\n    .dataframe tbody tr th:only-of-type {\n        vertical-align: middle;\n    }\n\n    .dataframe tbody tr th {\n        vertical-align: top;\n    }\n\n    .dataframe thead th {\n        text-align: right;\n    }\n</style>\n<table border=\"1\" class=\"dataframe\">\n  <thead>\n    <tr style=\"text-align: right;\">\n      <th></th>\n      <th>Metin</th>\n      <th>Kategori</th>\n    </tr>\n  </thead>\n  <tbody>\n    <tr>\n      <th>0</th>\n      <td>örnek bi̇r cümledi̇r kırmızı mart</td>\n      <td>Nötr Cümle</td>\n    </tr>\n  </tbody>\n</table>\n</div>"
     },
     "execution_count": 30,
     "metadata": {},
     "output_type": "execute_result"
    }
   ],
   "source": [
    "string_analyzer_data.more_space(data=yeni_data, columns='Metin')"
   ],
   "metadata": {
    "collapsed": false
   }
  },
  {
   "cell_type": "code",
   "execution_count": 30,
   "outputs": [],
   "source": [],
   "metadata": {
    "collapsed": false
   }
  },
  {
   "cell_type": "code",
   "execution_count": 30,
   "outputs": [],
   "source": [],
   "metadata": {
    "collapsed": false
   }
  },
  {
   "cell_type": "code",
   "execution_count": 30,
   "outputs": [],
   "source": [],
   "metadata": {
    "collapsed": false
   }
  },
  {
   "cell_type": "code",
   "execution_count": 30,
   "outputs": [],
   "source": [],
   "metadata": {
    "collapsed": false
   }
  },
  {
   "cell_type": "code",
   "execution_count": 30,
   "outputs": [],
   "source": [],
   "metadata": {
    "collapsed": false
   }
  },
  {
   "cell_type": "code",
   "execution_count": 30,
   "outputs": [],
   "source": [],
   "metadata": {
    "collapsed": false
   }
  },
  {
   "cell_type": "code",
   "execution_count": 30,
   "outputs": [],
   "source": [],
   "metadata": {
    "collapsed": false
   }
  },
  {
   "cell_type": "code",
   "execution_count": 30,
   "outputs": [],
   "source": [],
   "metadata": {
    "collapsed": false
   }
  },
  {
   "cell_type": "code",
   "execution_count": 30,
   "outputs": [],
   "source": [],
   "metadata": {
    "collapsed": false
   }
  },
  {
   "cell_type": "code",
   "execution_count": 30,
   "outputs": [],
   "source": [],
   "metadata": {
    "collapsed": false
   }
  }
 ],
 "metadata": {
  "kernelspec": {
   "display_name": "Python 3 (ipykernel)",
   "language": "python",
   "name": "python3"
  },
  "language_info": {
   "codemirror_mode": {
    "name": "ipython",
    "version": 3
   },
   "file_extension": ".py",
   "mimetype": "text/x-python",
   "name": "python",
   "nbconvert_exporter": "python",
   "pygments_lexer": "ipython3",
   "version": "3.9.13"
  }
 },
 "nbformat": 4,
 "nbformat_minor": 1
}
